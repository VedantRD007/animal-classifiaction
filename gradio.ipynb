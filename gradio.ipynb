{
 "cells": [
  {
   "cell_type": "code",
   "execution_count": null,
   "metadata": {
    "vscode": {
     "languageId": "plaintext"
    }
   },
   "outputs": [],
   "source": [
    "# Install necessary libraries \n",
    "\n",
    "!pip install -q --upgrade keras-cv\n",
    "!pip install -q --upgrade keras  # Upgrade to Keras 3.\n",
    "!pip install gradio\n",
    "\n"
   ]
  },
  {
   "cell_type": "code",
   "execution_count": null,
   "metadata": {
    "vscode": {
     "languageId": "plaintext"
    }
   },
   "outputs": [],
   "source": [
    "# Import required libraries\n",
    "\n",
    "import tensorflow as tf\n",
    "from tensorflow import keras\n",
    "import numpy as np\n",
    "import matplotlib.pyplot as plt\n",
    "import gradio as gr\n",
    "import keras_cv\n",
    "\n",
    "\n"
   ]
  },
  {
   "cell_type": "code",
   "execution_count": null,
   "metadata": {
    "vscode": {
     "languageId": "plaintext"
    }
   },
   "outputs": [],
   "source": [
    "# Mount Google Drive to access files\n",
    "\n",
    "from google.colab import drive\n",
    "drive.mount('/content/drive')"
   ]
  },
  {
   "cell_type": "code",
   "execution_count": null,
   "metadata": {
    "vscode": {
     "languageId": "plaintext"
    }
   },
   "outputs": [],
   "source": [
    "# Define class names for animal classification\n",
    "\n",
    "class_names = ['Bear', 'Bird', 'Cat', 'Cow', 'Deer', 'Dog', 'Dolphin', 'Elephant', 'Giraffe', 'Horse', 'Kangaroo', 'Lion', 'Panda', 'Tiger', 'Zebra']"
   ]
  },
  {
   "cell_type": "code",
   "execution_count": null,
   "metadata": {
    "vscode": {
     "languageId": "plaintext"
    }
   },
   "outputs": [],
   "source": [
    "# Load a pre-trained ResNet50V2 model from KerasCV\n",
    "\n",
    "model = keras_cv.models.ImageClassifier.from_preset(\n",
    "    \"resnet50_v2_imagenet\", num_classes=len(class_names)\n",
    ")"
   ]
  },
  {
   "cell_type": "code",
   "execution_count": null,
   "metadata": {
    "vscode": {
     "languageId": "plaintext"
    }
   },
   "outputs": [],
   "source": [
    "# Import optimization and callback modules for training\n",
    "\n",
    "from tensorflow.keras.optimizers import RMSprop, Adam, AdamW\n",
    "from tensorflow.keras.callbacks import EarlyStopping, ReduceLROnPlateau,ModelCheckpoint\n",
    "\n",
    "# Define a checkpoint to save the best model weights during training.\n",
    "\n",
    "checkpoint_filepath = 'model/weights-improvement-{epoch:02}-{val_loss:.4f}.keras'\n",
    "model_checkpoint_callback = tf.keras.callbacks.ModelCheckpoint(\n",
    "    filepath=checkpoint_filepath,\n",
    "    verbose=2, monitor='val_acc', mode='max',\n",
    "    save_best_only=True\n",
    ")"
   ]
  },
  {
   "cell_type": "code",
   "execution_count": null,
   "metadata": {
    "vscode": {
     "languageId": "plaintext"
    }
   },
   "outputs": [],
   "source": [
    "# Define early stopping to prevent overfitting.\n",
    "\n",
    "monitor = EarlyStopping(monitor='val_loss', min_delta=1e-3, patience=15,\n",
    "                        verbose=2, restore_best_weights=True)\n",
    "\n",
    "# Compile the model with AdamW optimizer, sparse categorical crossentropy loss, and accuracy metric.\n",
    "model.compile(optimizer=AdamW(learning_rate=0.001),loss='sparse_categorical_crossentropy',\n",
    "              metrics = ['acc'])\n",
    "\n"
   ]
  },
  {
   "cell_type": "code",
   "execution_count": null,
   "metadata": {
    "vscode": {
     "languageId": "plaintext"
    }
   },
   "outputs": [],
   "source": [
    "# Load pre-trained weights \n",
    "\n",
    "model.load_weights(\"model weights location \")"
   ]
  },
  {
   "cell_type": "code",
   "execution_count": null,
   "metadata": {
    "vscode": {
     "languageId": "plaintext"
    }
   },
   "outputs": [],
   "source": [
    "# Import PIL for image processing\n",
    "\n",
    "from PIL import Image\n",
    "import numpy as np\n",
    "\n",
    "# Load and preprocess a sample image for testing.\n",
    "\n",
    "path = \" test image path \" \n",
    "image = Image.open(path)\n",
    "image = np.array(image)\n",
    "image = image / 255.0  \n",
    "image = np.expand_dims(image, axis=0)  \n"
   ]
  },
  {
   "cell_type": "code",
   "execution_count": null,
   "metadata": {
    "vscode": {
     "languageId": "plaintext"
    }
   },
   "outputs": [],
   "source": [
    "# Resize the image using KerasCV resizing layer.\n",
    "\n",
    "resizing = keras_cv.layers.Resizing(\n",
    "    224, 224, crop_to_aspect_ratio=True\n",
    ")\n",
    "np_im_rs = resizing(image)\n",
    "print(np_im_rs.shape)\n"
   ]
  },
  {
   "cell_type": "code",
   "execution_count": null,
   "metadata": {
    "vscode": {
     "languageId": "plaintext"
    }
   },
   "outputs": [],
   "source": [
    "# Make predictions on the preprocessed image.\n",
    "\n",
    "predictions = model.predict(np_im_rs)\n",
    "print(predictions)\n",
    "\n",
    "# Print the predicted class.\n",
    "\n",
    "print(\"Top class is:\", class_names[np.argmax(predictions[0])])\n"
   ]
  },
  {
   "cell_type": "code",
   "execution_count": null,
   "metadata": {
    "vscode": {
     "languageId": "plaintext"
    }
   },
   "outputs": [],
   "source": [
    "# Define a function to classify an image from a file path.\n",
    "def classify_image(path):\n",
    "    image = Image.open(path)\n",
    "    image = np.array(image)\n",
    "    image = image / 255.0\n",
    "    image = np.expand_dims(image, axis=0)\n",
    "\n",
    "    resizing = keras_cv.layers.Resizing(\n",
    "        224, 224, crop_to_aspect_ratio=True\n",
    "    )\n",
    "    np_im_rs = resizing(image)\n",
    "\n",
    "    predictions = model.predict(np_im_rs)\n",
    "    return class_names[np.argmax(predictions[0])]\n"
   ]
  },
  {
   "cell_type": "code",
   "execution_count": null,
   "metadata": {
    "vscode": {
     "languageId": "plaintext"
    }
   },
   "outputs": [],
   "source": [
    "# Create a Gradio interface for image classification.\n",
    "\n",
    "gr.Interface(fn=classify_image,\n",
    "             inputs=gr.Image(type=\"filepath\"), # Input is an image file path.\n",
    "             outputs=\"text\").launch(debug='True') # Output is text (predicted class)"
   ]
  },
  {
   "cell_type": "code",
   "execution_count": null,
   "metadata": {
    "vscode": {
     "languageId": "plaintext"
    }
   },
   "outputs": [],
   "source": []
  },
  {
   "cell_type": "code",
   "execution_count": null,
   "metadata": {
    "vscode": {
     "languageId": "plaintext"
    }
   },
   "outputs": [],
   "source": []
  }
 ],
 "metadata": {
  "language_info": {
   "name": "python"
  }
 },
 "nbformat": 4,
 "nbformat_minor": 2
}
